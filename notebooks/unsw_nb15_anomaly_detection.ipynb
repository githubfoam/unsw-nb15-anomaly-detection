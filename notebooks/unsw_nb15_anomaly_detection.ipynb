{
 "cells": [
  {
   "cell_type": "code",
   "execution_count": 1,
   "id": "e42ee9e6-e946-4297-8d7e-2da58efe900c",
   "metadata": {},
   "outputs": [
    {
     "name": "stdout",
     "output_type": "stream",
     "text": [
      "['.ipynb_checkpoints', 'NUSW-NB15GT.csv', 'NUSW-NB15_features.csv', 'sample.csv', 'UNSW-NB15_1.csv', 'UNSW-NB15_2.csv', 'UNSW-NB15_3.csv', 'UNSW-NB15_4.csv']\n"
     ]
    }
   ],
   "source": [
    "import os\n",
    "\n",
    "# List all files in the data folder\n",
    "print(os.listdir('../data'))\n"
   ]
  },
  {
   "cell_type": "markdown",
   "id": "9e71d78e-5135-4bad-a790-75725f663372",
   "metadata": {},
   "source": [
    "# UNSW-NB15 Anomaly Detection "
   ]
  },
  {
   "cell_type": "code",
   "execution_count": 19,
   "id": "bd405e29-ba36-4a4a-ab2f-64e1586baf8f",
   "metadata": {},
   "outputs": [],
   "source": [
    "# 📌 Cell 2: Import Libraries\n",
    "import pandas as pd\n",
    "import numpy as np\n",
    "from sklearn.preprocessing import LabelEncoder, StandardScaler\n",
    "from sklearn.ensemble import IsolationForest\n",
    "import matplotlib.pyplot as plt\n",
    "import seaborn as sns\n",
    "\n",
    "# Show all columns in DataFrame\n",
    "pd.set_option('display.max_columns', None)\n",
    "\n"
   ]
  },
  {
   "cell_type": "code",
   "execution_count": 20,
   "id": "775a915e-7669-49f8-a867-d7785cb6ae50",
   "metadata": {},
   "outputs": [
    {
     "name": "stdout",
     "output_type": "stream",
     "text": [
      "Index(['59.166.0.0', '1390', '149.171.126.6', '53', 'udp', 'CON', '0.001055',\n",
      "       '132', '164', '31',\n",
      "       ...\n",
      "       '456.043567', '15.530109', '1424250009', '1424250009.1', '3.943843',\n",
      "       '4.912488', '0.00059', '0.000473', '0.000117', '4'],\n",
      "      dtype='object', length=139)\n",
      "Index(['Start time', 'Last time', 'Attack category', 'Attack subcategory',\n",
      "       'Protocol', 'Source IP', 'Source Port', 'Destination IP',\n",
      "       'Destination Port', 'Attack Name', 'Attack Reference', '.'],\n",
      "      dtype='object')\n"
     ]
    }
   ],
   "source": [
    "print(df.columns)\n",
    "print(gt.columns)"
   ]
  },
  {
   "cell_type": "code",
   "execution_count": 21,
   "id": "c642a3f0-f34f-4285-8cb3-660caaf11ac5",
   "metadata": {},
   "outputs": [
    {
     "name": "stdout",
     "output_type": "stream",
     "text": [
      "[]\n"
     ]
    }
   ],
   "source": [
    "print([col for col in df.columns if 'label' in col.lower() or 'attack' in col.lower()])"
   ]
  },
  {
   "cell_type": "code",
   "execution_count": 22,
   "id": "fb7db4c6-6510-40b0-9562-022b4a723618",
   "metadata": {},
   "outputs": [
    {
     "name": "stdout",
     "output_type": "stream",
     "text": [
      "Dataset shape: (2540043, 139)\n",
      "Columns sample: Index(['59.166.0.0', '1390', '149.171.126.6', '53', 'udp', 'CON', '0.001055',\n",
      "       '132', '164', '31'],\n",
      "      dtype='object')\n",
      "   59.166.0.0   1390  149.171.126.6    53  udp  CON  0.001055    132    164  \\\n",
      "0  59.166.0.0  33661  149.171.126.9  1024  udp  CON  0.036133  528.0  304.0   \n",
      "1  59.166.0.6   1464  149.171.126.7    53  udp  CON  0.001119  146.0  178.0   \n",
      "2  59.166.0.5   3593  149.171.126.5    53  udp  CON  0.001209  132.0  164.0   \n",
      "3  59.166.0.3  49664  149.171.126.0    53  udp  CON  0.001169  146.0  178.0   \n",
      "4  59.166.0.0  32119  149.171.126.9   111  udp  CON  0.078339  568.0  312.0   \n",
      "\n",
      "   31  29  0  0.1  dns   500473.9375   621800.9375  2  2.1  0.2  0.3  0.4  \\\n",
      "0  31  29  0    0    -   87676.08594   50480.17188  4  4.0    0    0  0.0   \n",
      "1  31  29  0    0  dns  521894.53130  636282.37500  2  2.0    0    0  0.0   \n",
      "2  31  29  0    0  dns  436724.56250  542597.18750  2  2.0    0    0  0.0   \n",
      "3  31  29  0    0  dns  499572.25000  609067.56250  2  2.0    0    0  0.0   \n",
      "4  31  29  0    0    -   43503.23438   23896.14258  4  4.0    0    0  0.0   \n",
      "\n",
      "   0.5     66    82 0.6  0.7        0.8        0.9    1421927414  \\\n",
      "0  0.0  132.0  76.0   0  0.0   9.891010  10.682733  1.421927e+09   \n",
      "1  0.0   73.0  89.0   0  0.0   0.000000   0.000000  1.421927e+09   \n",
      "2  0.0   66.0  82.0   0  0.0   0.000000   0.000000  1.421927e+09   \n",
      "3  0.0   73.0  89.0   0  0.0   0.000000   0.000000  1.421927e+09   \n",
      "4  0.0  142.0  78.0   0  0.0  29.682221  34.370340  1.421927e+09   \n",
      "\n",
      "   1421927414.1   0.017      0.013  0.10  0.11  0.12  0.13  0.14  0.15  0.16  \\\n",
      "0  1.421927e+09   7.005   7.564333   0.0   0.0   0.0   0.0   0.0   0.0   0.0   \n",
      "1  1.421927e+09   0.017   0.013000   0.0   0.0   0.0   0.0   0.0   0.0   0.0   \n",
      "2  1.421927e+09   0.043   0.014000   0.0   0.0   0.0   0.0   0.0   0.0   0.0   \n",
      "3  1.421927e+09   0.005   0.003000   0.0   0.0   0.0   0.0   0.0   0.0   0.0   \n",
      "4  1.421927e+09  21.003  24.315000   0.0   0.0   0.0   0.0   0.0   0.0   0.0   \n",
      "\n",
      "   0.17     3  7  1  3.1  1.1  1.2  1.3 Unnamed: 47  0.18  6055 149.171.126.5  \\\n",
      "0   0.0   2.0  4  2  3.0    1  1.0  2.0         NaN   0.0   NaN           NaN   \n",
      "1   0.0  12.0  8  1  2.0    2  1.0  1.0         NaN   0.0   NaN           NaN   \n",
      "2   0.0   6.0  9  1  1.0    1  1.0  1.0         NaN   0.0   NaN           NaN   \n",
      "3   0.0   7.0  9  1  1.0    1  1.0  1.0         NaN   0.0   NaN           NaN   \n",
      "4   0.0   2.0  4  2  3.0    1  1.0  2.0         NaN   0.0   NaN           NaN   \n",
      "\n",
      "  54145  tcp  FIN  0.072974  4238  60788  30    -  458245.4375  6571546.5  72  \\\n",
      "0   NaN  NaN  NaN       NaN   NaN    NaN NaN  NaN          NaN        NaN NaN   \n",
      "1   NaN  NaN  NaN       NaN   NaN    NaN NaN  NaN          NaN        NaN NaN   \n",
      "2   NaN  NaN  NaN       NaN   NaN    NaN NaN  NaN          NaN        NaN NaN   \n",
      "3   NaN  NaN  NaN       NaN   NaN    NaN NaN  NaN          NaN        NaN NaN   \n",
      "4   NaN  NaN  NaN       NaN   NaN    NaN NaN  NaN          NaN        NaN NaN   \n",
      "\n",
      "   72.1  255  255.1  1003293149  1003585034  59  844  62.04531  61.899776  \\\n",
      "0   NaN  NaN    NaN         NaN         NaN NaN  NaN       NaN        NaN   \n",
      "1   NaN  NaN    NaN         NaN         NaN NaN  NaN       NaN        NaN   \n",
      "2   NaN  NaN    NaN         NaN         NaN NaN  NaN       NaN        NaN   \n",
      "3   NaN  NaN    NaN         NaN         NaN NaN  NaN       NaN        NaN   \n",
      "4   NaN  NaN    NaN         NaN         NaN NaN  NaN       NaN        NaN   \n",
      "\n",
      "   1421955842  1421955842.1  1.02269  0.997042  0.002317  0.002173  0.000144  \\\n",
      "0         NaN           NaN      NaN       NaN       NaN       NaN       NaN   \n",
      "1         NaN           NaN      NaN       NaN       NaN       NaN       NaN   \n",
      "2         NaN           NaN      NaN       NaN       NaN       NaN       NaN   \n",
      "3         NaN           NaN      NaN       NaN       NaN       NaN       NaN   \n",
      "4         NaN           NaN      NaN       NaN       NaN       NaN       NaN   \n",
      "\n",
      "   13  13.1   6  7.1 59.166.0.1  18247 149.171.126.4 7662  0.119596  4550  \\\n",
      "0 NaN   NaN NaN  NaN        NaN    NaN           NaN  NaN       NaN   NaN   \n",
      "1 NaN   NaN NaN  NaN        NaN    NaN           NaN  NaN       NaN   NaN   \n",
      "2 NaN   NaN NaN  NaN        NaN    NaN           NaN  NaN       NaN   NaN   \n",
      "3 NaN   NaN NaN  NaN        NaN    NaN           NaN  NaN       NaN   NaN   \n",
      "4 NaN   NaN NaN  NaN        NaN    NaN           NaN  NaN       NaN   NaN   \n",
      "\n",
      "   68342  33  300478.2813  4514398.5  78  80  1818376620  1818657356  58  854  \\\n",
      "0    NaN NaN          NaN        NaN NaN NaN         NaN         NaN NaN  NaN   \n",
      "1    NaN NaN          NaN        NaN NaN NaN         NaN         NaN NaN  NaN   \n",
      "2    NaN NaN          NaN        NaN NaN NaN         NaN         NaN NaN  NaN   \n",
      "3    NaN NaN          NaN        NaN NaN NaN         NaN         NaN NaN  NaN   \n",
      "4    NaN NaN          NaN        NaN NaN NaN         NaN         NaN NaN  NaN   \n",
      "\n",
      "   87.137592  85.643619  1424231129  1424231129.1  1.549156  1.50719  \\\n",
      "0        NaN        NaN         NaN           NaN       NaN      NaN   \n",
      "1        NaN        NaN         NaN           NaN       NaN      NaN   \n",
      "2        NaN        NaN         NaN           NaN       NaN      NaN   \n",
      "3        NaN        NaN         NaN           NaN       NaN      NaN   \n",
      "4        NaN        NaN         NaN           NaN       NaN      NaN   \n",
      "\n",
      "   0.000644  0.000521  0.000123  Unnamed: 37  Unnamed: 38        5  2.2  \\\n",
      "0       NaN       NaN       NaN          NaN          NaN  NaN NaN  NaN   \n",
      "1       NaN       NaN       NaN          NaN          NaN  NaN NaN  NaN   \n",
      "2       NaN       NaN       NaN          NaN          NaN  NaN NaN  NaN   \n",
      "3       NaN       NaN       NaN          NaN          NaN  NaN NaN  NaN   \n",
      "4       NaN       NaN       NaN          NaN          NaN  NaN NaN  NaN   \n",
      "\n",
      "  59.166.0.9  7045 149.171.126.7   25  0.201886  37552  3380  18   8 smtp  \\\n",
      "0        NaN   NaN           NaN  NaN       NaN    NaN   NaN NaN NaN  NaN   \n",
      "1        NaN   NaN           NaN  NaN       NaN    NaN   NaN NaN NaN  NaN   \n",
      "2        NaN   NaN           NaN  NaN       NaN    NaN   NaN NaN NaN  NaN   \n",
      "3        NaN   NaN           NaN  NaN       NaN    NaN   NaN NaN NaN  NaN   \n",
      "4        NaN   NaN           NaN  NaN       NaN    NaN   NaN NaN NaN  NaN   \n",
      "\n",
      "   1459437.5  130766.8672  52  42  1422136554  3572668484  722  456.043567  \\\n",
      "0        NaN          NaN NaN NaN         NaN         NaN  NaN         NaN   \n",
      "1        NaN          NaN NaN NaN         NaN         NaN  NaN         NaN   \n",
      "2        NaN          NaN NaN NaN         NaN         NaN  NaN         NaN   \n",
      "3        NaN          NaN NaN NaN         NaN         NaN  NaN         NaN   \n",
      "4        NaN          NaN NaN NaN         NaN         NaN  NaN         NaN   \n",
      "\n",
      "   15.530109  1424250009  1424250009.1  3.943843  4.912488  0.00059  0.000473  \\\n",
      "0        NaN         NaN           NaN       NaN       NaN      NaN       NaN   \n",
      "1        NaN         NaN           NaN       NaN       NaN      NaN       NaN   \n",
      "2        NaN         NaN           NaN       NaN       NaN      NaN       NaN   \n",
      "3        NaN         NaN           NaN       NaN       NaN      NaN       NaN   \n",
      "4        NaN         NaN           NaN       NaN       NaN      NaN       NaN   \n",
      "\n",
      "   0.000117   4  \n",
      "0       NaN NaN  \n",
      "1       NaN NaN  \n",
      "2       NaN NaN  \n",
      "3       NaN NaN  \n",
      "4       NaN NaN  \n"
     ]
    }
   ],
   "source": [
    "# 📌 Cell 3: Load and Merge UNSW-NB15 Dataset(no label merge)\n",
    "data_dir = \"../data\"\n",
    "data_parts = [f\"{data_dir}/UNSW-NB15_{i}.csv\" for i in range(1, 5)]\n",
    "\n",
    "parts = [pd.read_csv(part, low_memory=False) for part in data_parts]\n",
    "df = pd.concat(parts, ignore_index=True)\n",
    "\n",
    "print(\"Dataset shape:\", df.shape)\n",
    "print(\"Columns sample:\", df.columns[:10])\n",
    "print(df.head())"
   ]
  },
  {
   "cell_type": "code",
   "execution_count": 23,
   "id": "d4c3aa87-2437-4a3a-80d8-4a4e72f694e1",
   "metadata": {},
   "outputs": [
    {
     "name": "stdout",
     "output_type": "stream",
     "text": [
      "Features after preprocessing: (2540043, 139)\n"
     ]
    }
   ],
   "source": [
    "# 📌 Cell 4: Preprocessing\n",
    "# Drop any ID or timestamp columns if present (adjust according to your df)\n",
    "drop_cols = []  # e.g. ['id', 'timestamp'] if exist\n",
    "\n",
    "X = df.drop(columns=drop_cols, errors='ignore')\n",
    "\n",
    "# Encode categorical columns\n",
    "cat_cols = X.select_dtypes(include=['object']).columns\n",
    "for col in cat_cols:\n",
    "    X[col] = LabelEncoder().fit_transform(X[col].astype(str))\n",
    "\n",
    "# Handle missing values\n",
    "X = X.fillna(0)\n",
    "\n",
    "print(\"Features after preprocessing:\", X.shape)\n"
   ]
  },
  {
   "cell_type": "code",
   "execution_count": 25,
   "id": "ef307b20-75d4-48be-8398-4de0a3a0ae90",
   "metadata": {},
   "outputs": [],
   "source": [
    "# 📌 Cell 5: Scale Features\n",
    "scaler = StandardScaler()\n",
    "X_scaled = scaler.fit_transform(X)"
   ]
  },
  {
   "cell_type": "code",
   "execution_count": 26,
   "id": "30869016-abf2-458a-8644-26cf2ecf1139",
   "metadata": {},
   "outputs": [
    {
     "name": "stdout",
     "output_type": "stream",
     "text": [
      "Anomaly label counts:\n",
      "anomaly\n",
      " 1    2286038\n",
      "-1     254005\n",
      "Name: count, dtype: int64\n"
     ]
    }
   ],
   "source": [
    "# 📌 Cell 6:Train Isolation Forest\n",
    "iso_forest = IsolationForest(n_estimators=100, contamination=0.1, random_state=42, n_jobs=-1)\n",
    "iso_forest.fit(X_scaled)\n",
    "\n",
    "# Predict anomalies: -1 = anomaly, 1 = normal\n",
    "anomaly_labels = iso_forest.predict(X_scaled)\n",
    "\n",
    "# Add prediction to original dataframe\n",
    "df['anomaly'] = anomaly_labels\n",
    "print(\"Anomaly label counts:\")\n",
    "print(df['anomaly'].value_counts())\n"
   ]
  },
  {
   "cell_type": "code",
   "execution_count": 27,
   "id": "06251dde-c98f-46cc-8c8d-57726fdedf7f",
   "metadata": {},
   "outputs": [
    {
     "data": {
      "image/png": "[encoded data removed]",
      "text/plain": [
       "<Figure size 640x480 with 1 Axes>"
      ]
     },
     "metadata": {},
     "output_type": "display_data"
    }
   ],
   "source": [
    "# 📌 Cell 7: Visualize Anomalies (Optional)\n",
    "sns.countplot(x='anomaly', data=df)\n",
    "plt.title('Anomaly Detection Results (-1: Anomaly, 1: Normal)')\n",
    "plt.show()"
   ]
  },
  {
   "cell_type": "code",
   "execution_count": 28,
   "id": "2e89ce72-692c-42ef-a42d-f50d321a3edc",
   "metadata": {},
   "outputs": [
    {
     "name": "stdout",
     "output_type": "stream",
     "text": [
      "✅ Model and scaler saved successfully.\n"
     ]
    }
   ],
   "source": [
    "# 📌 Cell 9: Save Model and Scaler\n",
    "import joblib\n",
    "\n",
    "# Save the Isolation Forest model\n",
    "joblib.dump(iso_forest, 'isolation_forest_model.pkl')\n",
    "\n",
    "# Save the scaler\n",
    "joblib.dump(scaler, 'scaler.pkl')\n",
    "\n",
    "print(\"✅ Model and scaler saved successfully.\")"
   ]
  },
  {
   "cell_type": "code",
   "execution_count": null,
   "id": "1a7224dc-7c8f-4af8-a023-eb55af82b2c5",
   "metadata": {},
   "outputs": [],
   "source": []
  }
 ],
 "metadata": {
  "kernelspec": {
   "display_name": "Python 3 (ipykernel)",
   "language": "python",
   "name": "python3"
  },
  "language_info": {
   "codemirror_mode": {
    "name": "ipython",
    "version": 3
   },
   "file_extension": ".py",
   "mimetype": "text/x-python",
   "name": "python",
   "nbconvert_exporter": "python",
   "pygments_lexer": "ipython3",
   "version": "3.12.10"
  }
 },
 "nbformat": 4,
 "nbformat_minor": 5
}
